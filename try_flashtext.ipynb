{
 "cells": [
  {
   "cell_type": "code",
   "execution_count": 5,
   "metadata": {
    "collapsed": true
   },
   "outputs": [],
   "source": [
    "# Python FlashText is fast in SEARCHING, REMOVING keywords in text\n",
    "from flashtext import KeywordProcessor"
   ]
  },
  {
   "cell_type": "code",
   "execution_count": 6,
   "metadata": {
    "collapsed": true
   },
   "outputs": [],
   "source": [
    "totoro_text = \"\"\"\n",
    "In 1958 Japan, university professor Tatsuo Kusakabe and his two daughters, Satsuki and Mei, move into an old house to be closer to the hospital where the girls' mother, Yasuko, is recovering from a long-term illness. Satsuki and Mei find that the house is inhabited by tiny animated dust creatures called susuwatari –- small, dark, dust-like house spirits seen when moving from light to dark places.[note 1] When the girls become comfortable in their new house and laugh with Tatsuo, the soot spirits leave the house to drift away on the wind. It is implied that they are going to find another empty house –- their natural habitat.\n",
    "\n",
    "One day, Mei sees two white, rabbit-like ears in the grass and follows the ears under the house. She discovers two small spirits who lead her through a briar patch and into the hollow of a large camphor tree. She meets and befriends a larger version of the same kind of spirit, which identifies itself by a series of roars that she interprets as \"Totoro\". She falls asleep atop the large totoro, but when Satsuki finds her, she is on the ground in a dense briar clearing. Despite her many attempts, Mei is unable to show her family Totoro's tree. Tatsuo comforts her by telling her that this is the \"keeper of the forest,\" and that Totoro will reveal himself when he wants to.\n",
    "\n",
    "\n",
    "Satsuki and Mei's house (ja:サツキとメイの家) at the Expo 2005 site.\n",
    "\n",
    "Closeup view of Satsuki and Mei's house\n",
    "One rainy night, the girls are waiting for Tatsuo's bus and grow worried when he doesn't arrive on the bus they expect him on. As they wait, Mei eventually falls asleep on Satsuki's back and Totoro appears beside them, allowing Satsuki to see him for the first time. He has only a leaf on his head for protection against the rain, so Satsuki offers him the umbrella she had taken along for her father. Totoro is delighted at both the shelter and the sounds made upon it by falling raindrops. In return, he gives her a bundle of nuts and seeds. A bus-shaped giant cat halts at the stop, and Totoro boards it, taking the umbrella. Shortly after, Tatsuo's bus arrives.\n",
    "\n",
    "The girls plant the seeds. A few days later, they awaken at midnight to find Totoro and his two miniature colleagues engaged in a ceremonial dance around the planted nuts and seeds. The girls join in, whereupon the seeds sprout, and then grow and combine into an enormous tree. Totoro takes his colleagues and the girls for a ride on a magical flying top. In the morning, the tree is gone, but the seeds have indeed sprouted; it is left unclear whether or not the girls were dreaming.\n",
    "\n",
    "The girls find out that a planned visit by Yasuko has to be postponed because of a setback in her treatment. Satsuki, disappointed and worried, tells Mei the bad news, which Mei doesn't take well. This leads into an argument between the two, ending in Satsuki angrily yelling at Mei and stomping off. Mei decides to walk to the hospital to bring some fresh corn to Yasuko.\n",
    "\n",
    "Mei's disappearance prompts Satsuki and the neighbors to search for her. Eventually, Satsuki returns in desperation to the camphor tree and pleads for Totoro's help. Delighted to be of assistance, he summons the Catbus, which carries her to where the lost Mei sits. Having rescued her, the Catbus then whisks her and Satsuki over the countryside to see Yasuko in the hospital. The girls perch in a tree outside of the hospital, overhearing a conversation between their parents and discovering that she has been kept in hospital by a minor cold, but is otherwise doing well. They secretly leave the ear of corn on the windowsill, where it is discovered by the parents, and return home on the Catbus. When the Catbus departs, it disappears from the girls' sight.\n",
    "\n",
    "Eventually, Mei and Satsuki's mother returns home, and the sisters play with other children, while Totoro and his friends watch them from afar.\n",
    "\"\"\""
   ]
  },
  {
   "cell_type": "code",
   "execution_count": 8,
   "metadata": {},
   "outputs": [
    {
     "name": "stdout",
     "output_type": "stream",
     "text": [
      "[('totoro', 985, 991), ('totoro', 1026, 1032), ('totoro', 1170, 1176), ('totoro', 1270, 1276), ('totoro', 1626, 1632), ('totoro', 1837, 1843), ('totoro', 2025, 2031), ('totoro', 2179, 2185), ('totoro', 2380, 2386), ('totoro', 3113, 3119), ('catbus', 3174, 3180), ('catbus', 3252, 3258), ('catbus', 3653, 3659), ('catbus', 3670, 3676), ('totoro', 3823, 3829)]\n"
     ]
    }
   ],
   "source": [
    "# search keywords\n",
    "\n",
    "## search exact keywords\n",
    "processor = KeywordProcessor()\n",
    "processor.add_keywords_from_list(['totoro','catbus'])\n",
    "found = processor.extract_keywords(totoro_text, span_info=True)  # list start & end location for the keywords\n",
    "print found"
   ]
  },
  {
   "cell_type": "code",
   "execution_count": 10,
   "metadata": {},
   "outputs": [
    {
     "name": "stdout",
     "output_type": "stream",
     "text": [
      "[('totoro', 985, 991), ('totoro', 1026, 1032), ('totoro', 1170, 1176), ('totoro', 1270, 1276), ('totoro', 1626, 1632), ('totoro', 1837, 1843), ('totoro', 2025, 2031), ('totoro', 2179, 2185), ('totoro', 2380, 2386), ('totoro', 3113, 3119), ('totoro', 3174, 3180), ('totoro', 3252, 3258), ('totoro', 3653, 3659), ('totoro', 3670, 3676), ('totoro', 3823, 3829)]\n"
     ]
    }
   ],
   "source": [
    "## search synonyms keywords\n",
    "### Here, assume catbus and totoro are the same words\n",
    "processor = KeywordProcessor()\n",
    "processor.add_keywords_from_dict({'totoro':['totoro','catbus']})\n",
    "found = processor.extract_keywords(totoro_text, span_info=True)  # list start & end location for the keywords\n",
    "print found"
   ]
  },
  {
   "cell_type": "code",
   "execution_count": 14,
   "metadata": {},
   "outputs": [
    {
     "name": "stdout",
     "output_type": "stream",
     "text": [
      "\n",
      "In 1958 Japan, university professor Tatsuo Kusakabe and his two daughters, Satsuki and Mei, move into an old house to be closer to the hospital where the girls' mother, Yasuko, is recovering from a long-term illness. Satsuki and Mei find that the house is inhabited by tiny animated dust creatures called susuwatari –- small, dark, dust-like house spirits seen when moving from light to dark places.[note 1]\n"
     ]
    }
   ],
   "source": [
    "# repalce keywords\n",
    "\n",
    "processor = KeywordProcessor(case_sensitive = False)\n",
    "processor.add_keyword('catbus', 'totoro')  # replace catbus with totoro\n",
    "replaced_text = processor.replace_keywords(totoro_text)\n",
    "print(replaced_text[0:410])"
   ]
  }
 ],
 "metadata": {
  "kernelspec": {
   "display_name": "Python 2",
   "language": "python",
   "name": "python2"
  },
  "language_info": {
   "codemirror_mode": {
    "name": "ipython",
    "version": 2
   },
   "file_extension": ".py",
   "mimetype": "text/x-python",
   "name": "python",
   "nbconvert_exporter": "python",
   "pygments_lexer": "ipython2",
   "version": "2.7.13"
  }
 },
 "nbformat": 4,
 "nbformat_minor": 2
}
