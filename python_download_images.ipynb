{
 "cells": [
  {
   "cell_type": "code",
   "execution_count": null,
   "metadata": {},
   "outputs": [],
   "source": [
    "# Let's download some rose images\n",
    "import urllib\n",
    "import os\n",
    "from PIL import Image\n",
    "import shutil\n",
    "\n",
    "\n",
    "rose_file = \"http://www.image-net.org/api/text/imagenet.synset.geturls?wnid=n04971313\"\n",
    "rose_urls = urllib.urlopen(rose_file)\n",
    "\n",
    "my_dir = \"train\"\n",
    "if os.path.exists(my_dir):\n",
    "    shutil.rmtree('train') \n",
    "os.makedirs(my_dir)\n",
    "\n",
    "ct = 0\n",
    "for rose_url in rose_urls:\n",
    "    ct += 1\n",
    "    image_path = my_dir+\"/rose\"+str(ct)+\".jpg\"\n",
    "    try:\n",
    "        Image.open(urllib.urlopen(rose_url))\n",
    "        urllib.urlretrieve(rose_url, image_path)\n",
    "    except:   # cannot load image\n",
    "        ct -= 1\n",
    "        pass\n",
    "    \n",
    "    if ct == 70:\n",
    "        break\n",
    "        \n",
    "# NOTE: if image no longer exists, but just load another image (such as empty image), \n",
    "## this method will download those too"
   ]
  }
 ],
 "metadata": {
  "kernelspec": {
   "display_name": "Python2 conda_env",
   "language": "python",
   "name": "testenv"
  },
  "language_info": {
   "codemirror_mode": {
    "name": "ipython",
    "version": 2
   },
   "file_extension": ".py",
   "mimetype": "text/x-python",
   "name": "python",
   "nbconvert_exporter": "python",
   "pygments_lexer": "ipython2",
   "version": "2.7.13"
  }
 },
 "nbformat": 4,
 "nbformat_minor": 2
}
