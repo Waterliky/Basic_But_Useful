{
 "cells": [
  {
   "cell_type": "code",
   "execution_count": 2,
   "metadata": {},
   "outputs": [],
   "source": [
    "#!/usr/bin/env python\n",
    "\n",
    "# It seems that text preprocessing is the first step for many deep learning work\n",
    "## So, I'd better wrire down those basic methods I foten used\n",
    "\n",
    "# allow foreign languages in the text\n",
    "import sys  \n",
    "stdout = sys.stdout\n",
    "reload(sys)  \n",
    "sys.setdefaultencoding('utf8')\n",
    "sys.stdout = stdout\n",
    "\n",
    "import nltk\n",
    "from nltk.stem.porter import *\n",
    "\n",
    "nltk.download('stopwords')\n",
    "nltk.download('punkt')\n",
    "nltk.download('maxent_treebank_pos_tagger')\n",
    "nltk.download('averaged_perceptron_tagger')\n",
    "\n",
    "# For more, check my code files here: https://github.com/hanhanwu/Hanhan_Play_With_Social_Media"
   ]
  },
  {
   "cell_type": "code",
   "execution_count": 4,
   "metadata": {},
   "outputs": [],
   "source": [
    "stemmer = PorterStemmer()\n",
    "stopwords = nltk.corpus.stopwords.words('english')"
   ]
  },
  {
   "cell_type": "code",
   "execution_count": 30,
   "metadata": {
    "collapsed": true
   },
   "outputs": [],
   "source": [
    "s1 = \"\"\"My life is so busy when it's close to the end of the year. \n",
    "        Most of the time I have to work day and night just in order to have my own time on weekends.\n",
    "        Then during the weekends, I need to sleep more, and do more house work, go shopping, \n",
    "        sometimes hag out with girlfirends. Sometimes just want to read a book, and I need to do my side projects\n",
    "        all the time. Sometimes, even during the weekend, had to work since I want to be outstanding.\n",
    "        I want to learn broader and deeper in cyber security, and I'm taking actions, I'm using my little time\n",
    "        to learn penetration testing, to learn from hackers in DEF CON. I want to be excellent and always have\n",
    "        my passion in data science in cyber secuirty. There are many other things to deal with, some are really annoying.\n",
    "        They keep remind you, life can never be perfect. I still love Emmanuel, miss him and sometimes wonder what's\n",
    "        happening there, but my busy life does not allow me to think too much.\"\"\""
   ]
  },
  {
   "cell_type": "code",
   "execution_count": 31,
   "metadata": {},
   "outputs": [
    {
     "name": "stdout",
     "output_type": "stream",
     "text": [
      "there are many other things to deal with, some are really annoying.\n",
      "i still love emmanuel, miss him and sometimes wonder what's\n",
      "        happening there, but my busy life does not allow me to think too much.\n"
     ]
    }
   ],
   "source": [
    "# extract sentences from text, and lower all the case\n",
    "sentences = [s.lower() for s in nltk.tokenize.sent_tokenize(s1)]\n",
    "print sentences[7]\n",
    "print sentences[9]"
   ]
  },
  {
   "cell_type": "code",
   "execution_count": 32,
   "metadata": {},
   "outputs": [
    {
     "name": "stdout",
     "output_type": "stream",
     "text": [
      "['my life is so busy when its close to the end of the year', 'most of the time i have to work day and night just in order to have my own time on weekends', 'then during the weekends i need to sleep more and do more house work go shopping \\n        sometimes hag out with girlfirends', 'sometimes just want to read a book and i need to do my side projects\\n        all the time', 'sometimes even during the weekend had to work since i want to be outstanding', 'i want to learn broader and deeper in cyber security and im taking actions im using my little time\\n        to learn penetration testing to learn from hackers in def con', 'i want to be excellent and always have\\n        my passion in data science in cyber secuirty', 'there are many other things to deal with some are really annoying', 'they keep remind you life can never be perfect', 'i still love emmanuel miss him and sometimes wonder whats\\n        happening there but my busy life does not allow me to think too much']\n"
     ]
    }
   ],
   "source": [
    "# remove punctuation\n",
    "# With this method, can't convter to cant;\n",
    "# With other nltk method, can't convert to can, t 2 tokens\n",
    "sentences = [s.translate(None, string.punctuation) for s in sentences]\n",
    "print sentences"
   ]
  },
  {
   "cell_type": "code",
   "execution_count": 34,
   "metadata": {},
   "outputs": [
    {
     "name": "stdout",
     "output_type": "stream",
     "text": [
      "day\n",
      "order\n"
     ]
    }
   ],
   "source": [
    "# extract tokens (non-stopwords) from sentences\n",
    "tokens = [w for s in sentences for w in s.split() if w not in stopwords and len(w)<20]\n",
    "print tokens[7]\n",
    "print tokens[9]"
   ]
  },
  {
   "cell_type": "code",
   "execution_count": 35,
   "metadata": {},
   "outputs": [
    {
     "name": "stdout",
     "output_type": "stream",
     "text": [
      "4\n"
     ]
    }
   ],
   "source": [
    "# calculate words similarity\n",
    "import Levenshtein\n",
    "\n",
    "print Levenshtein.distance(tokens[7], tokens[9])"
   ]
  },
  {
   "cell_type": "code",
   "execution_count": 36,
   "metadata": {},
   "outputs": [
    {
     "name": "stdout",
     "output_type": "stream",
     "text": [
      "['still', 'love', 'emmanuel', 'miss', 'sometimes', 'wonder', 'whats', 'happening', 'busy', 'life', 'allow', 'think', 'much']\n",
      "['still', 'love', 'emmanuel', u'miss', u'sometim', 'wonder', u'what', u'happen', u'busi', 'life', 'allow', 'think', 'much']\n"
     ]
    }
   ],
   "source": [
    "# Stemming\n",
    "tokens9 = [w for w in sentences[9].split() if w not in stopwords and len(w)<20]\n",
    "print tokens9\n",
    "stemmed_words = [stemmer.stem(tokens9[i]) for i in range(len(tokens9))]\n",
    "print stemmed_words"
   ]
  }
 ],
 "metadata": {
  "kernelspec": {
   "display_name": "Python 2",
   "language": "python",
   "name": "python2"
  },
  "language_info": {
   "codemirror_mode": {
    "name": "ipython",
    "version": 2
   },
   "file_extension": ".py",
   "mimetype": "text/x-python",
   "name": "python",
   "nbconvert_exporter": "python",
   "pygments_lexer": "ipython2",
   "version": "2.7.13"
  }
 },
 "nbformat": 4,
 "nbformat_minor": 2
}
