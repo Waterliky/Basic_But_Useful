{
 "cells": [
  {
   "cell_type": "code",
   "execution_count": 1,
   "metadata": {
    "collapsed": true
   },
   "outputs": [],
   "source": [
    "# Need to find oil reading dates and exhaust gas reading date between the 2 work order dates, for each equipment\n",
    "# then choose the latest reading date earlier than each work order date"
   ]
  },
  {
   "cell_type": "code",
   "execution_count": 1,
   "metadata": {
    "collapsed": true
   },
   "outputs": [],
   "source": [
    "import csv\n",
    "import datetime"
   ]
  },
  {
   "cell_type": "code",
   "execution_count": 2,
   "metadata": {},
   "outputs": [
    {
     "name": "stdout",
     "output_type": "stream",
     "text": [
      "482 {'7/17/2017', '5/4/2017', '7/31/2017', '12/31/2016', '4/10/2017', '1/11/2017', '9/18/2016', '4/20/2017', '2/9/2017', '1/25/2017', '12/10/2016', '2/16/2017', '9/13/2016', '1/30/2017', '1/13/2017', '7/25/2017', '5/18/2017', '10/27/2016', '6/29/2017', '9/28/2016', '7/29/2017', '12/8/2016', '12/29/2016', '3/2/2017', '11/11/2016', '8/11/2016', '10/6/2016', '3/22/2017', '9/30/2016', '6/1/2017', '7/26/2016', '7/20/2016', '11/25/2016', '10/5/2016', '7/30/2017', '2/28/2017', '6/6/2017', '4/25/2017', '10/13/2016', '6/28/2017', '4/29/2017', '12/5/2016', '7/18/2017', '9/1/2016', '2/20/2017', '3/5/2017', '6/22/2017', '2/3/2017', '10/12/2016', '11/29/2016', '10/8/2016', '8/30/2016', '8/2/2016', '8/24/2016', '11/2/2016', '12/27/2016', '7/15/2017', '11/15/2016', '10/21/2016', '7/4/2017', '9/22/2016', '2/1/2017', '5/23/2017', '7/12/2016', '11/24/2016', '5/11/2017', '1/16/2017', '8/27/2016', '12/7/2016', '7/14/2016', '1/23/2017', '3/20/2017', '3/30/2017', '1/6/2017', '11/9/2016', '5/30/2017', '1/3/2017', '1/5/2017', '8/3/2016', '11/27/2016', '5/2/2017', '2/12/2017', '7/5/2016', '7/8/2016', '1/15/2017', '8/31/2016', '12/21/2016', '7/7/2017', '7/21/2016', '12/11/2016', '1/24/2017', '5/10/2017', '1/22/2017', '9/14/2016', '12/4/2016', '8/15/2016', '7/1/2017', '7/3/2016', '3/12/2017', '12/12/2016', '4/16/2017', '4/3/2017', '5/29/2017', '11/10/2016', '6/17/2017', '7/19/2016', '3/3/2017', '3/21/2017', '7/22/2017', '11/8/2016', '5/17/2017', '4/12/2017', '2/5/2017', '9/29/2016', '8/26/2016', '8/4/2016', '9/10/2016', '12/20/2016', '8/17/2016', '7/13/2017', '12/28/2016', '7/8/2017', '5/31/2017', '11/26/2016', '6/19/2017', '4/4/2017', '8/6/2016', '10/14/2016', '12/6/2016', '8/18/2016', '7/16/2017', '7/16/2016', '8/12/2016', '3/15/2017', '6/20/2017', '12/15/2016', '7/9/2017', '5/21/2017', '3/14/2017', '6/12/2017', '1/18/2017', '9/8/2016', '1/9/2017', '6/30/2017', '3/26/2017', '5/9/2017', '2/7/2017', '7/25/2016', '3/13/2017', '7/14/2017', '1/26/2017', '2/6/2017', '7/12/2017', '1/17/2017', '12/22/2016', '7/10/2017', '10/4/2016', '6/9/2017', '7/23/2017', '10/17/2016', '11/20/2016'}\n"
     ]
    }
   ],
   "source": [
    "work_order_info_file = \"work_order_info.csv\"\n",
    "work_order_dct = {}\n",
    "\n",
    "with open(work_order_info_file) as work_order_csv:\n",
    "    reader = csv.DictReader(work_order_csv)\n",
    "    for r in reader:\n",
    "        compid = r['compid']\n",
    "        work_order_dct.setdefault(compid, set())\n",
    "        work_order_dct[compid].add(r['DATE_WO'])\n",
    "\n",
    "for compid, sch_date_lst in work_order_dct.items():\n",
    "    print(compid, sch_date_lst)\n",
    "    break"
   ]
  },
  {
   "cell_type": "code",
   "execution_count": 3,
   "metadata": {},
   "outputs": [
    {
     "name": "stdout",
     "output_type": "stream",
     "text": [
      "341 {'13-Mar-17', '7-Jan-17', '12-Jan-17', '2-Aug-17', '6-Feb-17', '8-May-17', '15-Jul-17', '7-May-17', '22-Feb-17', '11-Jun-17', '1-Jul-17', '17-Apr-17', '30-Jan-17'}\n"
     ]
    }
   ],
   "source": [
    "oil_analysis_file = \"oil_analysis_data.csv\"\n",
    "oil_dct = {}\n",
    "\n",
    "with open(oil_analysis_file) as oil_csv:\n",
    "    reader = csv.DictReader(oil_csv)\n",
    "    for r in reader:\n",
    "        compid = r['EquipmentNumber']\n",
    "        oil_dct.setdefault(compid, set())\n",
    "        oil_dct[compid].add(r['sampledate'])\n",
    "        \n",
    "for compid, sample_date_lst in oil_dct.items():\n",
    "    print(compid, sample_date_lst)\n",
    "    break"
   ]
  },
  {
   "cell_type": "code",
   "execution_count": 39,
   "metadata": {},
   "outputs": [
    {
     "name": "stdout",
     "output_type": "stream",
     "text": [
      "477 HT477 ['2016-12-07 20:44:56.520', '2016-12-07 17:07:46.507', '2016-12-07 20:28:43.233', '2016-11-06 17:57:26.297', '2016-07-20 07:56:20.793', '2016-07-20 08:19:17.867']\n"
     ]
    }
   ],
   "source": [
    "exhaust_gas_file = \"exhaust_gas_data.csv\"\n",
    "exhaust_gas_dct = {}\n",
    "\n",
    "with open(exhaust_gas_file) as exhaust_gas_csv:\n",
    "    reader = csv.DictReader(exhaust_gas_csv)\n",
    "    for r in reader:\n",
    "        comp_name = r['EquipmentName']\n",
    "        compid = comp_name[2:]\n",
    "        exhaust_gas_dct.setdefault(compid, {'comp_name':comp_name, 'readtime_lst':set()})\n",
    "        exhaust_gas_dct[compid]['readtime_lst'].add(r['Readtime'])\n",
    "        \n",
    "for compid, subdct in exhaust_gas_dct.items():\n",
    "    print(compid, subdct['comp_name'], list(subdct['readtime_lst'])[4:10])\n",
    "    break"
   ]
  },
  {
   "cell_type": "code",
   "execution_count": 5,
   "metadata": {},
   "outputs": [
    {
     "name": "stdout",
     "output_type": "stream",
     "text": [
      "482 {'1/11/2017': '', '1/24/2017': '23-Jan-17', '1/25/2017': '23-Jan-17', '1/26/2017': '23-Jan-17', '1/30/2017': '23-Jan-17', '2/1/2017': '23-Jan-17', '2/12/2017': '23-Jan-17', '2/16/2017': '23-Jan-17', '2/20/2017': '23-Jan-17', '2/28/2017': '22-Feb-17', '2/3/2017': '23-Jan-17', '2/5/2017': '23-Jan-17', '2/6/2017': '23-Jan-17', '2/7/2017': '23-Jan-17', '2/9/2017': '23-Jan-17', '3/12/2017': '22-Feb-17', '3/13/2017': '22-Feb-17', '3/14/2017': '22-Feb-17', '3/15/2017': '22-Feb-17', '3/2/2017': '22-Feb-17', '3/20/2017': '22-Feb-17', '3/21/2017': '22-Feb-17', '3/22/2017': '22-Feb-17', '3/26/2017': '22-Feb-17', '3/3/2017': '22-Feb-17', '3/30/2017': '22-Feb-17', '3/5/2017': '22-Feb-17', '4/10/2017': '22-Feb-17', '4/12/2017': '22-Feb-17', '4/16/2017': '22-Feb-17', '4/20/2017': '18-Apr-17', '4/25/2017': '18-Apr-17', '4/29/2017': '18-Apr-17', '4/3/2017': '22-Feb-17', '4/4/2017': '22-Feb-17', '5/10/2017': '18-Apr-17', '5/11/2017': '18-Apr-17', '5/17/2017': '14-May-17', '5/18/2017': '14-May-17', '5/2/2017': '18-Apr-17', '5/21/2017': '14-May-17', '5/23/2017': '14-May-17', '5/29/2017': '14-May-17', '5/30/2017': '14-May-17', '5/31/2017': '14-May-17', '5/4/2017': '18-Apr-17', '5/9/2017': '18-Apr-17', '6/1/2017': '14-May-17', '6/12/2017': '14-May-17', '6/17/2017': '14-May-17', '6/19/2017': '14-May-17', '6/20/2017': '14-May-17', '6/22/2017': '14-May-17', '6/28/2017': '14-May-17', '6/29/2017': '14-May-17', '6/30/2017': '14-May-17', '6/6/2017': '14-May-17', '6/9/2017': '14-May-17', '7/1/2017': '14-May-17', '7/10/2017': '1-Jul-17', '7/12/2017': '1-Jul-17', '7/13/2017': '1-Jul-17', '7/14/2017': '1-Jul-17', '7/15/2017': '1-Jul-17', '7/16/2017': '1-Jul-17', '7/17/2017': '1-Jul-17', '7/18/2017': '1-Jul-17', '7/22/2017': '1-Jul-17', '7/23/2017': '1-Jul-17', '7/25/2017': '1-Jul-17', '7/29/2017': '1-Jul-17', '7/30/2017': '1-Jul-17', '7/31/2017': '1-Jul-17', '7/4/2017': '1-Jul-17', '7/7/2017': '1-Jul-17', '7/8/2017': '1-Jul-17', '7/9/2017': '1-Jul-17'}\n"
     ]
    }
   ],
   "source": [
    "matched_dates = {}\n",
    "\n",
    "for compid, sch_date_lst in work_order_dct.items():\n",
    "    sorted_work_order_dates = list(sch_date_lst)\n",
    "    sorted_work_order_dates.sort()\n",
    "    \n",
    "    if compid in oil_dct.keys():\n",
    "        sorted_oil_dates = list(oil_dct[compid])\n",
    "        sorted_oil_dates.sort()\n",
    "    else:\n",
    "        continue\n",
    "    \n",
    "#     if compid in exhaust_gas_dct.keys():\n",
    "#         exhaust_gas_dates = list(exhaust_gas_dct[compid]['readtime_lst'])\n",
    "#         exhaust_gas_dates.sort()\n",
    "#     else:\n",
    "#         continue\n",
    "    \n",
    "    for i in range(len(sorted_work_order_dates)):\n",
    "        work_order_date = sorted_work_order_dates[i]\n",
    "        if work_order_date is None or work_order_date == 'NA':\n",
    "            continue\n",
    "        work_order_date_time = datetime.datetime.strptime(work_order_date, '%m/%d/%Y')\n",
    "            \n",
    "        matched_dates.setdefault(compid,{work_order_date:''})\n",
    "        \n",
    "#         matched_dates.setdefault(compid,{'work_order_date':work_order_date, 'oil_date':'',\n",
    "#                                          'exhaust_gas_date':'', 'comp_name':''})\n",
    "            \n",
    "        for j in range(len(sorted_oil_dates)):\n",
    "            if sorted_oil_dates[j] is None or sorted_oil_dates[j]=='NA': \n",
    "                continue\n",
    "            try:\n",
    "                oil_date = datetime.datetime.strptime(sorted_oil_dates[j], '%d-%b-%y').strftime('%m/%d/%Y')\n",
    "                oil_date = datetime.datetime.strptime(oil_date, '%m/%d/%Y')\n",
    "                if (oil_date > work_order_date_time) == True:\n",
    "                    continue\n",
    "                if j == len(sorted_oil_dates)-1:\n",
    "                    matched_dates[compid][work_order_date] = sorted_oil_dates[j]\n",
    "                else: \n",
    "                    next_oil_date = datetime.datetime.strptime(sorted_oil_dates[j+1], '%d-%b-%y').strftime('%m/%d/%Y')\n",
    "                    next_oil_date = datetime.datetime.strptime(next_oil_date, '%m/%d/%Y')\n",
    "                    if (oil_date < work_order_date_time) == True and (next_oil_date > work_order_date_time) == True:\n",
    "                        matched_dates[compid][work_order_date] = sorted_oil_dates[j]\n",
    "                        break\n",
    "            except:\n",
    "                continue\n",
    "                \n",
    "#         for p in range(len(exhaust_gas_dates)):\n",
    "#             if exhaust_gas_dates[p] is None or exhaust_gas_dates[p]=='NA': \n",
    "#                 continue\n",
    "#             try:\n",
    "#                 gas_date = datetime.datetime.strptime(exhaust_gas_dates[p].split()[0], '%Y-%m-%d').strftime('%m/%d/%Y')\n",
    "#                 gas_date = datetime.datetime.strptime(gas_date, '%m/%d/%Y')\n",
    "#                 if (gas_date > work_order_date_time) == True:\n",
    "#                     continue\n",
    "#                 if p == len(exhaust_gas_dates)-1:\n",
    "#                     matched_dates[compid][work_order_date] = exhaust_gas_dates[p]\n",
    "#                 else: \n",
    "#                     next_gas_date = datetime.datetime.strptime(exhaust_gas_dates[p+1].split()[0], '%Y-%m-%d').strftime('%m/%d/%Y')\n",
    "#                     next_gas_date = datetime.datetime.strptime(next_gas_date, '%m/%d/%Y')\n",
    "#                     if (gas_date < work_order_date_time) == True and (next_gas_date > work_order_date_time) == True:\n",
    "#                         matched_dates[compid][work_order_date] = exhaust_gas_dates[j]\n",
    "#                         break\n",
    "#             except:\n",
    "#                 continue\n",
    "\n",
    "            \n",
    "            \n",
    "for compid, subdct in matched_dates.items():\n",
    "    print(compid, subdct)\n",
    "    break"
   ]
  },
  {
   "cell_type": "code",
   "execution_count": 9,
   "metadata": {},
   "outputs": [],
   "source": [
    "# write into csv\n",
    "\n",
    "matched_time_out = \"matched_time.csv\"\n",
    "\n",
    "with open(matched_time_out, 'w') as csv_file:\n",
    "    fieldnames = ['compid', 'work_order_date', 'oil_sample_date']\n",
    "    writer = csv.DictWriter(csv_file, fieldnames=fieldnames)\n",
    "    \n",
    "    writer.writeheader()\n",
    "    \n",
    "    for compid, subdct in matched_dates.items():\n",
    "        for work_order_date, oil_date in subdct.items():\n",
    "            if oil_date == '':\n",
    "                continue\n",
    "            writer.writerow({'compid':compid, \n",
    "                            'work_order_date':work_order_date, \n",
    "                            'oil_sample_date':oil_date})"
   ]
  }
 ],
 "metadata": {
  "kernelspec": {
   "display_name": "Python 3",
   "language": "python",
   "name": "python3"
  },
  "language_info": {
   "codemirror_mode": {
    "name": "ipython",
    "version": 3
   },
   "file_extension": ".py",
   "mimetype": "text/x-python",
   "name": "python",
   "nbconvert_exporter": "python",
   "pygments_lexer": "ipython3",
   "version": "3.6.1"
  }
 },
 "nbformat": 4,
 "nbformat_minor": 2
}
